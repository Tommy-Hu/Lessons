{
 "cells": [
  {
   "attachments": {},
   "cell_type": "markdown",
   "metadata": {},
   "source": [
    "**Lesson 1: Introduction and Basics**\n",
    "> **Homework:**\n",
    "> Write a \"guess the number\" program. It should ask the user for an integer (no decimals) between $0$ and $1000$. If the number entered by the user is smaller than $739$, tell the user that the number they entered is too small. If the number entered by the user is larger than $739$, tell them that the number they entered is too big. If the user guessed $739$, tell them they correctly guessed the number.\n",
    "> ***Remember!** You are the programmer, you have the power here! Customize what the program prints to your own liking :)*\n",
    "> **Bonus 1**: repeatedly ask them to enter a number until they guess $739$. Each time, your program should still tell them if they entered a number too big or too small.\n",
    "> **Bonus 2**: use a random number generator (RNG) to randomly generate a number instead of the fixed $739$."
   ]
  },
  {
   "attachments": {},
   "cell_type": "markdown",
   "metadata": {},
   "source": []
  }
 ],
 "metadata": {
  "language_info": {
   "name": "python"
  },
  "orig_nbformat": 4
 },
 "nbformat": 4,
 "nbformat_minor": 2
}
